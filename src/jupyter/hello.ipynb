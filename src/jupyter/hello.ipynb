{
 "cells": [
  {
   "cell_type": "code",
   "execution_count": 3,
   "metadata": {
    "pycharm": {
     "name": "#%%\n"
    }
   },
   "outputs": [
    {
     "data": {
      "image/png": "[encoded data removed]",
      "text/plain": [
       "<Figure size 432x288 with 1 Axes>"
      ]
     },
     "metadata": {
      "needs_background": "light"
     },
     "output_type": "display_data"
    }
   ],
   "source": [
    "import numpy as np\n",
    "from matplotlib import pyplot as plt\n",
    "\n",
    "ys = 200 + np.random.randn(100)\n",
    "x = [x for x in range(len(ys))]\n",
    "plt.plot(x,ys,'-')\n",
    "\n",
    "plt.fill_between(x,ys,195,where=(ys > 195), facecolor='g', alpha=0.6)\n",
    "plt.title(\"Fills and Alpha Example\")\n",
    "plt.show()"
   ]
  },
  {
   "cell_type": "markdown",
   "metadata": {
    "pycharm": {
     "name": "#%% md\n"
    }
   },
   "source": [
    "## 学习\n",
    "这是一个简单的练习 \n",
    "\n",
    "[jupeter notebook](http://)"
   ]
  },
  {
   "cell_type": "markdown",
   "metadata": {
    "pycharm": {
     "name": "#%% md\n"
    }
   },
   "source": [
    "## tuple 与 List"
   ]
  },
  {
   "cell_type": "code",
   "execution_count": 16,
   "metadata": {
    "pycharm": {
     "name": "#%%\n"
    }
   },
   "outputs": [
    {
     "name": "stdout",
     "output_type": "stream",
     "text": [
      "(1, 2, '4')\n",
      "[0, 2, '3', '4']\n",
      "(1, 2, '4', 5)\n"
     ]
    },
    {
     "data": {
      "text/plain": [
       "1"
      ]
     },
     "execution_count": 16,
     "metadata": {},
     "output_type": "execute_result"
    }
   ],
   "source": [
    "l = [1,2,\"3\",\"4\"]\n",
    "tup = (1,2,\"4\")\n",
    "print(tup)\n",
    "l[0] = 0\n",
    "print(l)\n",
    "## tup[0] = 0   tuple 固定，不支持改变\n",
    "## 如果需要改变需要创建新的元组\n",
    "new_tup = tup + (5,)\n",
    "print(new_tup) \n",
    "l.append(5) # 添加元素5到原列表的末尾\n",
    "l\n",
    "tuple(l)\n",
    "list(new_tup)\n",
    "l.count(2)"
   ]
  },
  {
   "cell_type": "markdown",
   "metadata": {
    "pycharm": {
     "name": "#%% md\n"
    }
   },
   "source": [
    "## 字典与集合"
   ]
  },
  {
   "cell_type": "code",
   "execution_count": 36,
   "metadata": {
    "pycharm": {
     "name": "#%%\n"
    }
   },
   "outputs": [
    {
     "name": "stdout",
     "output_type": "stream",
     "text": [
      "[('age', 10), ('flag', True), ('name', 'tip')]\n",
      "0 1 2 3 4 5 6 7 8 9\n",
      "0 1 2 3 4 5 6 7 8 9\n"
     ]
    }
   ],
   "source": [
    "d1 = {'name':'tip','age':10,'flag':True}\n",
    "d2 = dict({'name':'tip','age':10,'flag':True})\n",
    "d3 = dict([('name','tip'),('age',10),('flag',True)])\n",
    "d4 = dict(name='tip',age=10,flag=True)\n",
    "d1 == d2 == d3 == d4\n",
    "## d1['name1']\n",
    "d1.get('name1','null')\n",
    "\n",
    "s1 = {1,2,3}\n",
    "s2 = set([1,'2',3])\n",
    "s1 == s2\n",
    "\n",
    "## 判断是否存在\n",
    "1 in s1\n",
    "'name1' in d1\n",
    "\n",
    "d_sorted_by_key = sorted(d1.items(),key = lambda x:x[0])\n",
    "print(d_sorted_by_key)\n",
    "# d_sorted_by_value = sorted(d1.items(),key = lambda x:x[1])\n",
    "# print(d_sorted_by_value)\n",
    "sorted(s1)\n",
    "\n",
    "\n",
    "s = \" \".join(map(str, range(0, 10)))\n",
    "print(s)\n",
    "s1 = \" \".join(map(lambda x: str(x),range(0,10)))\n",
    "print(s1)"
   ]
  },
  {
   "cell_type": "markdown",
   "metadata": {
    "pycharm": {
     "name": "#%% md\n"
    }
   },
   "source": [
    "## 输入输出"
   ]
  },
  {
   "cell_type": "code",
   "execution_count": 54,
   "metadata": {
    "pycharm": {
     "name": "#%%\n"
    }
   },
   "outputs": [
    {
     "name": "stdout",
     "output_type": "stream",
     "text": [
      "file path:F:\\python\\NEWS.txt\n",
      "('the', 5282)\n",
      "('to', 2981)\n",
      "('in', 2941)\n",
      "('and', 2733)\n",
      "('by', 2401)\n",
      "('of', 2353)\n",
      "('a', 2337)\n",
      "('now', 1745)\n",
      "('patch', 1737)\n",
      "('for', 1594)\n"
     ]
    }
   ],
   "source": [
    "import re\n",
    "from collections import Counter\n",
    "\n",
    "file = input('input file path:')\n",
    "print('file path:{}'.format(file))\n",
    "\n",
    "wordcount = Counter()\n",
    "\n",
    "def parse_line(line):\n",
    "    line = re.sub(r'[^\\w ]','',line)    \n",
    "    line = line.lower()\n",
    "    words = filter(None,line.split(' ')) \n",
    "    wordcount.update(words)\n",
    "\n",
    "with  open(file,mode=\"r\",encoding=\"utf-8\") as fin :\n",
    "    for line in fin:\n",
    "        parse_line(line)\n",
    "\n",
    "top = 10\n",
    "with open('out.txt','w') as fout:\n",
    "    for item in sorted(wordcount.items(),key = lambda x:x[1],reverse=True):\n",
    "        if top==0: \n",
    "            break\n",
    "        print('{}'.format(item))\n",
    "        top -=1\n",
    "        fout.write('{}: {}\\n'.format(item[0],item[1]))\n",
    "    # print('word_count={}'.format(wordcount))\n",
    "\n"
   ]
  },
  {
   "cell_type": "markdown",
   "metadata": {
    "pycharm": {
     "name": "#%% md\n"
    }
   },
   "source": [
    "## 遍历"
   ]
  },
  {
   "cell_type": "code",
   "execution_count": 59,
   "metadata": {
    "pycharm": {
     "name": "#%%\n"
    }
   },
   "outputs": [
    {
     "name": "stdout",
     "output_type": "stream",
     "text": [
      "[{'name': 'jason', 'dob': '2000-01-01', 'gender': 'male'}, {'name': 'mike', 'dob': '1999-01-01', 'gender': 'male'}, {'name': 'nancy', 'dob': '2001-02-01', 'gender': 'female'}]\n",
      "[{'name': 'jason', 'dob': '2000-01-01', 'gender': 'male'}, {'name': 'mike', 'dob': '1999-01-01', 'gender': 'male'}, {'name': 'nancy', 'dob': '2001-02-01', 'gender': 'female'}]\n",
      "[{\"name\": \"jason\", \"dob\": \"2000-01-01\", \"gender\": \"male\"}, {\"name\": \"mike\", \"dob\": \"1999-01-01\", \"gender\": \"male\"}, {\"name\": \"nancy\", \"dob\": \"2001-02-01\", \"gender\": \"female\"}]\n"
     ]
    }
   ],
   "source": [
    "import json \n",
    "attributes = ['name', 'dob', 'gender']\n",
    "values = [\n",
    "['jason', '2000-01-01', 'male'],\n",
    "['mike', '1999-01-01', 'male'],\n",
    "['nancy', '2001-02-01', 'female']\n",
    "]\n",
    "\n",
    "L = []\n",
    "\n",
    "for value in values:\n",
    "    dictTmp = {}\n",
    "    for index,key in enumerate(attributes):\n",
    "        dictTmp[key] = value[index]\n",
    "    L.append(dictTmp)\n",
    "print(L) \n",
    "\n",
    "print([{key:value[index] for index,key in enumerate(attributes)} for value in values])\n",
    "# [dict(zip(attributes, value)) for value in values]\n",
    "print(json.dumps(L))"
   ]
  }
 ],
 "metadata": {
  "interpreter": {
   "hash": "5961c1f676d41e3107b987a88563c83ef53a9477bd0aeae680aa09bb0e6bf12b"
  },
  "kernelspec": {
   "display_name": "Python 3.9.1 64-bit",
   "language": "python",
   "name": "python3"
  },
  "language_info": {
   "codemirror_mode": {
    "name": "ipython",
    "version": 3
   },
   "file_extension": ".py",
   "mimetype": "text/x-python",
   "name": "python",
   "nbconvert_exporter": "python",
   "pygments_lexer": "ipython3",
   "version": "3.9.1"
  },
  "orig_nbformat": 4
 },
 "nbformat": 4,
 "nbformat_minor": 2
}
{
 "cells": [
  {
   "cell_type": "markdown",
   "metadata": {},
   "source": [
    "## namedtuple 使用\n",
    "\n",
    "namedtuple是继承自tuple的子类。namedtuple创建一个和tuple类似的对象，而且对象拥有可访问的属性"
   ]
  },
  {
   "cell_type": "code",
   "execution_count": 8,
   "metadata": {},
   "outputs": [
    {
     "name": "stdout",
     "output_type": "stream",
     "text": [
      "User(name='tip', age='male', sex=15) tip\n",
      "User(name='tip', age=20, sex=15)\n",
      "{'name': 'tip', 'age': 20, 'sex': 15}\n"
     ]
    }
   ],
   "source": [
    "import collections\n",
    "\n",
    "User = collections.namedtuple('User',['name','age','sex'])\n",
    "\n",
    "# 1.创建用户对象\n",
    "user = User(name='tip',sex='male',age=15)\n",
    "# 2.通过list来创建用户对象 ，_make\n",
    "user = User._make(['tip','male',15])\n",
    "\n",
    "print(user,user.name)\n",
    "\n",
    "# 3.修改对象属性 不能直接赋值 user.name ='ccc'\n",
    "user = user._replace(age=20)\n",
    "print(user)\n",
    "# 4.将User对象转换成字典 _asdict\n",
    "print(user._asdict())"
   ]
  },
  {
   "cell_type": "markdown",
   "metadata": {},
   "source": [
    "## deque 使用\n",
    "\n",
    "deque实现了两端都可以操作的队列"
   ]
  },
  {
   "cell_type": "code",
   "execution_count": 19,
   "metadata": {},
   "outputs": [
    {
     "name": "stdout",
     "output_type": "stream",
     "text": [
      "deque(['a', 'b'], maxlen=10)\n",
      "deque(['B', 'A', 'a', 'b'], maxlen=10)\n",
      "deque(['E', 'D', 'B', 'A', 'a', 'b', 'd', 'e'], maxlen=10)\n",
      "deque(['F', 'E', 'D', 'B', 'A', 'a', 'b', 'd', 'e'], maxlen=10)\n",
      "e\n",
      "F\n",
      "deque(['E', 'D', 'B', 'A', 'a', 'b', 'd'], maxlen=10)\n",
      "2936364399296\n",
      "2936364400064\n",
      "1\n",
      "5\n",
      "deque(['d', 'b', 'a', 'A', 'B', 'D', 'E'], maxlen=10)\n",
      "deque(['E', 'd', 'b', 'a', 'A', 'B', 'D'], maxlen=10)\n"
     ]
    }
   ],
   "source": [
    "## 0.指定长度\n",
    "queue = collections.deque(maxlen=10)\n",
    "## 1.向后追加\n",
    "queue.append('a')\n",
    "queue.append('b')\n",
    "print(queue)\n",
    "## 2.向前追加\n",
    "queue.appendleft('A')\n",
    "queue.appendleft('B')\n",
    "print(queue)\n",
    "\n",
    "## 3.可迭代对象入队\n",
    "queue.extend(['d','e'])\n",
    "queue.extendleft(['D','E'])\n",
    "print(queue)\n",
    "\n",
    "## 4. 指定位置插入数据\n",
    "queue.insert(0,'F')\n",
    "print(queue)\n",
    "\n",
    "## 5. 出队 \n",
    "print(queue.pop())\n",
    "print(queue.popleft())\n",
    "print(queue)\n",
    "\n",
    "## 6. 拷贝  拷贝之后，对原队列进行操作，不会影响到拷贝出来的队列，版本>3.5\n",
    "copy_queue = queue.copy()\n",
    "print(id(queue))\n",
    "print(id(copy_queue))\n",
    "\n",
    "\n",
    "## 7.计数、索引\n",
    "\n",
    "print(queue.count('b'))\n",
    "print(queue.index('b'))\n",
    "\n",
    "## 8.翻转和轮转\n",
    "copy_queue.reverse()\n",
    "print(copy_queue)\n",
    "copy_queue.rotate() ## 从左到右轮转\n",
    "print(copy_queue)\n",
    "\n",
    "## 9.删除\n",
    "queue.remove('F')\n",
    "queue.clear()"
   ]
  },
  {
   "cell_type": "markdown",
   "metadata": {},
   "source": [
    "## Counter使用\n"
   ]
  },
  {
   "cell_type": "code",
   "execution_count": 25,
   "metadata": {},
   "outputs": [
    {
     "name": "stdout",
     "output_type": "stream",
     "text": [
      "Counter({'x': 4, 'y': 2, 'z': 2})\n",
      "Counter({'x': 5, 'y': 3, 'z': 3})\n"
     ]
    }
   ],
   "source": [
    "counter_list_1 = ['x','y','z','x','x','x','y', 'z']\n",
    "cl = collections.Counter(counter_list_1)\n",
    "print(cl) \n",
    "cl.update(['y','z'])\n",
    "cl['x']=5\n",
    "print(cl) \n",
    "for a in cl.elements():\n",
    "    if a == 'x':\n",
    "        break"
   ]
  },
  {
   "cell_type": "markdown",
   "metadata": {},
   "source": [
    "## defaultdict"
   ]
  },
  {
   "cell_type": "code",
   "execution_count": 29,
   "metadata": {},
   "outputs": [
    {
     "name": "stdout",
     "output_type": "stream",
     "text": [
      "default\n",
      "default\n",
      "Dictionary with values as list:\n",
      "defaultdict(<class 'list'>, {0: [0], 1: [1], 2: [2], 3: [3], 4: [4]})\n"
     ]
    }
   ],
   "source": [
    "def def_value():\n",
    "    return \"Not Present\"\n",
    "# d = collections.defaultdict(def_value)\n",
    "d = collections.defaultdict(lambda: \"default\")\n",
    "# d = {'a':1,'b':2}\n",
    "d['a'] =1\n",
    "print(d['c'])\n",
    "# Provides the default value\n",
    "# for the key\n",
    "print(d.__missing__('a'))\n",
    "\n",
    "d = collections.defaultdict(list) \n",
    "for i in range(5):\n",
    "    d[i].append(i)\n",
    "     \n",
    "print(\"Dictionary with values as list:\")\n",
    "print(d)"
   ]
  },
  {
   "cell_type": "markdown",
   "metadata": {},
   "source": [
    "## OrderedDict"
   ]
  },
  {
   "cell_type": "code",
   "execution_count": 30,
   "metadata": {},
   "outputs": [
    {
     "name": "stdout",
     "output_type": "stream",
     "text": [
      "This is a Dict:\n",
      "\n",
      "a 1\n",
      "b 2\n",
      "c 3\n",
      "d 4\n",
      "\n",
      "This is an Ordered Dict:\n",
      "\n",
      "a 1\n",
      "b 2\n",
      "c 3\n",
      "d 4\n"
     ]
    }
   ],
   "source": [
    "print(\"This is a Dict:\\n\")\n",
    "d = {}\n",
    "d['a'] = 1\n",
    "d['b'] = 2\n",
    "d['c'] = 3\n",
    "d['d'] = 4\n",
    " \n",
    "for key, value in d.items():\n",
    "    print(key, value)\n",
    " \n",
    "print(\"\\nThis is an Ordered Dict:\\n\")\n",
    "od = collections.OrderedDict()\n",
    "od['a'] = 1\n",
    "od['b'] = 2\n",
    "od['c'] = 3\n",
    "od['d'] = 4\n",
    " \n",
    "for key, value in od.items():\n",
    "    print(key, value)"
   ]
  }
 ],
 "metadata": {
  "interpreter": {
   "hash": "5961c1f676d41e3107b987a88563c83ef53a9477bd0aeae680aa09bb0e6bf12b"
  },
  "kernelspec": {
   "display_name": "Python 3.9.1 64-bit",
   "language": "python",
   "name": "python3"
  },
  "language_info": {
   "codemirror_mode": {
    "name": "ipython",
    "version": 3
   },
   "file_extension": ".py",
   "mimetype": "text/x-python",
   "name": "python",
   "nbconvert_exporter": "python",
   "pygments_lexer": "ipython3",
   "version": "3.9.1"
  },
  "orig_nbformat": 4
 },
 "nbformat": 4,
 "nbformat_minor": 2
}

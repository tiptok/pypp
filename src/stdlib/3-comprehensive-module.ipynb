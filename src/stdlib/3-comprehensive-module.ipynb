{
 "cells": [
  {
   "cell_type": "markdown",
   "source": [
    "## 1.正则表达式  re\n",
    "\n",
    "### 参考\n",
    "\n",
    "- [正则表达式 - 雪峰](https://www.liaoxuefeng.com/wiki/1016959663602400/1017639890281664)"
   ],
   "metadata": {
    "collapsed": false,
    "pycharm": {
     "name": "#%% md\n"
    }
   }
  },
  {
   "cell_type": "code",
   "execution_count": 12,
   "metadata": {
    "collapsed": true,
    "pycharm": {
     "name": "#%%\n"
    }
   },
   "outputs": [
    {
     "data": {
      "text/plain": "['a', 'b', 'c,d,e,1']"
     },
     "execution_count": 12,
     "metadata": {},
     "output_type": "execute_result"
    }
   ],
   "source": [
    "import re\n",
    "\n",
    "re.match(r'^\\d{3}-\\d{3,8}$','010 12345')\n",
    "\n",
    "## 灵活切分\n",
    "input = 'a b    c,d,e,1'\n",
    "input.split(' ')\n",
    "re.split(r'\\s+',input)"
   ]
  },
  {
   "cell_type": "code",
   "execution_count": 13,
   "outputs": [
    {
     "data": {
      "text/plain": "['a', 'b', 'c', 'd', 'e', '1']"
     },
     "execution_count": 13,
     "metadata": {},
     "output_type": "execute_result"
    }
   ],
   "source": [
    "# 按连续空格 、 逗号切分\n",
    "re.split(r'[\\s\\,]+',input)"
   ],
   "metadata": {
    "collapsed": false,
    "pycharm": {
     "name": "#%%\n"
    }
   }
  },
  {
   "cell_type": "code",
   "execution_count": 21,
   "outputs": [
    {
     "data": {
      "text/plain": "'12345'"
     },
     "execution_count": 21,
     "metadata": {},
     "output_type": "execute_result"
    }
   ],
   "source": [
    "# 分组匹配 提取子串,分别定义了两个组，可以直接从匹配的字符串中提取出区号和本地号码\n",
    "m = re.match(r'^(\\d{3})-(\\d{3,8})$', '010-12345')\n",
    "m\n",
    "m.group(0)\n",
    "# '010-12345'\n",
    "m.group(1)\n",
    "# '010'\n",
    "m.group(2)"
   ],
   "metadata": {
    "collapsed": false,
    "pycharm": {
     "name": "#%%\n"
    }
   }
  },
  {
   "cell_type": "code",
   "execution_count": 24,
   "outputs": [
    {
     "data": {
      "text/plain": "('010', '8086')"
     },
     "execution_count": 24,
     "metadata": {},
     "output_type": "execute_result"
    }
   ],
   "source": [
    "## 编译  如果一个正则表达式要重复使用几千次，出于效率的考虑，我们可以预编译该正则表达式\n",
    "\n",
    "re_telephone = re.compile(r'(\\d{3})-(\\d{3,8})$')\n",
    "\n",
    "re_telephone.match('010-12345').groups()\n",
    "re_telephone.match('010-8086').groups()"
   ],
   "metadata": {
    "collapsed": false,
    "pycharm": {
     "name": "#%%\n"
    }
   }
  },
  {
   "cell_type": "code",
   "execution_count": 30,
   "outputs": [
    {
     "data": {
      "text/plain": "<_sre.SRE_Match object; span=(0, 17), match='someone@gmail.com'>"
     },
     "execution_count": 30,
     "metadata": {},
     "output_type": "execute_result"
    }
   ],
   "source": [
    "# 练习一 匹配邮箱\n",
    "re.match(r'^(\\w+(\\.)?\\w+)@(\\w+)(.com){1}$','someone@gmail.com')"
   ],
   "metadata": {
    "collapsed": false,
    "pycharm": {
     "name": "#%%\n"
    }
   }
  },
  {
   "cell_type": "markdown",
   "source": [],
   "metadata": {
    "collapsed": false,
    "pycharm": {
     "name": "#%% md\n"
    }
   }
  },
  {
   "cell_type": "code",
   "execution_count": 32,
   "outputs": [
    {
     "data": {
      "text/plain": "'Tom Paris'"
     },
     "execution_count": 32,
     "metadata": {},
     "output_type": "execute_result"
    }
   ],
   "source": [
    "# 练习二 匹配人名\n",
    "m = re.match(r'\\<?([\\w\\s]+)\\>?[\\w\\s]*@\\w*\\.org','<Tom Paris> tom@voyager.org')\n",
    "m.group(1)"
   ],
   "metadata": {
    "collapsed": false,
    "pycharm": {
     "name": "#%%\n"
    }
   }
  },
  {
   "cell_type": "markdown",
   "source": [
    "## json 格式"
   ],
   "metadata": {
    "collapsed": false,
    "pycharm": {
     "name": "#%% md\n"
    }
   }
  },
  {
   "cell_type": "code",
   "execution_count": 44,
   "outputs": [
    {
     "data": {
      "text/plain": "'tip'"
     },
     "execution_count": 44,
     "metadata": {},
     "output_type": "execute_result"
    }
   ],
   "source": [
    "import json\n",
    "sub = dict(address=\"fz\",city_flag = True)\n",
    "obj = dict(name=\"tip\",phone=12306,info =sub)\n",
    "json_str = json.dumps(obj)\n",
    "newObj = json.loads(json_str)\n",
    "newObj['name']"
   ],
   "metadata": {
    "collapsed": false,
    "pycharm": {
     "name": "#%%\n"
    }
   }
  },
  {
   "cell_type": "markdown",
   "source": [
    "## math 数学运算函数"
   ],
   "metadata": {
    "collapsed": false,
    "pycharm": {
     "name": "#%% md\n"
    }
   }
  },
  {
   "cell_type": "code",
   "execution_count": null,
   "outputs": [],
   "source": [
    "import math\n",
    "\n",
    "math.ceil(3.4) #返回>=x的最小整数\n",
    "# 4\n",
    "math.floor(4.1) #返<=x的最大整数\n",
    "# 4\n",
    "math.fabs(-4) # 返回绝对值\n",
    "# 4.0\n",
    "math.isnan(1) # not a number\n",
    "# False"
   ],
   "metadata": {
    "collapsed": false,
    "pycharm": {
     "name": "#%%\n",
     "is_executing": true
    }
   }
  },
  {
   "cell_type": "markdown",
   "source": [
    "## hashlib 摘要算法"
   ],
   "metadata": {
    "collapsed": false,
    "pycharm": {
     "name": "#%% md\n"
    }
   }
  },
  {
   "cell_type": "code",
   "execution_count": 54,
   "outputs": [
    {
     "data": {
      "text/plain": "'e10adc3949ba59abbe56e057f20f883e'"
     },
     "execution_count": 54,
     "metadata": {},
     "output_type": "execute_result"
    }
   ],
   "source": [
    "import hashlib\n",
    "\n",
    "md5 = hashlib.md5()\n",
    "md5.update('123456'.encode('utf-8'))\n",
    "md5.hexdigest()"
   ],
   "metadata": {
    "collapsed": false,
    "pycharm": {
     "name": "#%%\n"
    }
   }
  },
  {
   "cell_type": "code",
   "execution_count": 55,
   "outputs": [
    {
     "data": {
      "text/plain": "'7c4a8d09ca3762af61e59520943dc26494f8941b'"
     },
     "execution_count": 55,
     "metadata": {},
     "output_type": "execute_result"
    }
   ],
   "source": [
    "sha1 = hashlib.sha1()\n",
    "sha1.update('123456'.encode('utf-8'))\n",
    "sha1.hexdigest()"
   ],
   "metadata": {
    "collapsed": false,
    "pycharm": {
     "name": "#%%\n"
    }
   }
  },
  {
   "cell_type": "markdown",
   "source": [
    "## random"
   ],
   "metadata": {
    "collapsed": false,
    "pycharm": {
     "name": "#%% md\n"
    }
   }
  },
  {
   "cell_type": "code",
   "execution_count": null,
   "outputs": [],
   "source": [
    "import  random\n",
    "\n",
    "# 1、实值分布\n",
    "random.random() # 生成一个0到1的随机浮点数\n",
    "random.uniform(2, 4) # random.uniform(a, b)：返回一个随机浮点数[范围]"
   ],
   "metadata": {
    "collapsed": false,
    "pycharm": {
     "name": "#%%\n",
     "is_executing": true
    }
   }
  },
  {
   "cell_type": "code",
   "execution_count": 60,
   "outputs": [
    {
     "data": {
      "text/plain": "43"
     },
     "execution_count": 60,
     "metadata": {},
     "output_type": "execute_result"
    }
   ],
   "source": [
    "# 2、整数函数\n",
    "# random.randint(a, b) ：返回一个随机整数\n",
    "random.randrange(1,100)"
   ],
   "metadata": {
    "collapsed": false,
    "pycharm": {
     "name": "#%%\n"
    }
   }
  },
  {
   "cell_type": "code",
   "execution_count": 63,
   "outputs": [
    {
     "data": {
      "text/plain": "'t'"
     },
     "execution_count": 63,
     "metadata": {},
     "output_type": "execute_result"
    }
   ],
   "source": [
    "# 3、序列函数\n",
    "# random.choice(sequence)\n",
    "# 参数sequence表示一个有序类型。泛指一系列的类型：list，tuple，字符串等，如果为空会报错。\n",
    "random.choice([1,2,3,4,5,6])\n",
    "random.choice('学习python')"
   ],
   "metadata": {
    "collapsed": false,
    "pycharm": {
     "name": "#%%\n"
    }
   }
  },
  {
   "cell_type": "code",
   "execution_count": 74,
   "outputs": [
    {
     "data": {
      "text/plain": "['cherry', 'banana', 'ccc', 'apple']"
     },
     "execution_count": 74,
     "metadata": {},
     "output_type": "execute_result"
    }
   ],
   "source": [
    "# random.shuffle(sequence, function)\n",
    "# 把一个列表内元素的顺序打乱,列表的内存地址不变\n",
    "mylist = [\"ccc\",\"apple\", \"banana\", \"cherry\"]\n",
    "id(mylist) # 内存地址\n",
    "random.shuffle(mylist)\n",
    "id(mylist) # 内存地址\n",
    "mylist"
   ],
   "metadata": {
    "collapsed": false,
    "pycharm": {
     "name": "#%%\n"
    }
   }
  },
  {
   "cell_type": "code",
   "execution_count": 76,
   "outputs": [
    {
     "data": {
      "text/plain": "[8, 3]"
     },
     "execution_count": 76,
     "metadata": {},
     "output_type": "execute_result"
    }
   ],
   "source": [
    "# random.sample(sequence, k)\n",
    "# 返回一个列表，其中从序列中随机选择指定的返回数量。\n",
    "\n",
    "random.sample(range(10), 2)"
   ],
   "metadata": {
    "collapsed": false,
    "pycharm": {
     "name": "#%%\n"
    }
   }
  },
  {
   "cell_type": "code",
   "execution_count": 78,
   "outputs": [
    {
     "data": {
      "text/plain": "0.9560342718892494"
     },
     "execution_count": 78,
     "metadata": {},
     "output_type": "execute_result"
    }
   ],
   "source": [
    "# random.seed(a, version)：自定义随机数生成器的起始编号，将会返回相同值。\n",
    "\n",
    "random.seed(2)\n",
    "random.random()\n",
    "\n",
    "random.seed(2)\n",
    "random.random()"
   ],
   "metadata": {
    "collapsed": false,
    "pycharm": {
     "name": "#%%\n"
    }
   }
  },
  {
   "cell_type": "code",
   "execution_count": null,
   "outputs": [],
   "source": [],
   "metadata": {
    "collapsed": false,
    "pycharm": {
     "name": "#%%\n"
    }
   }
  }
 ],
 "metadata": {
  "kernelspec": {
   "display_name": "Python 3",
   "language": "python",
   "name": "python3"
  },
  "language_info": {
   "codemirror_mode": {
    "name": "ipython",
    "version": 2
   },
   "file_extension": ".py",
   "mimetype": "text/x-python",
   "name": "python",
   "nbconvert_exporter": "python",
   "pygments_lexer": "ipython2",
   "version": "2.7.6"
  }
 },
 "nbformat": 4,
 "nbformat_minor": 0
}
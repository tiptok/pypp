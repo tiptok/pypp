{
 "cells": [
  {
   "cell_type": "markdown",
   "metadata": {
    "pycharm": {
     "name": "#%% md\n"
    }
   },
   "source": [
    "## 时间 Time\n",
    "\n",
    "时间常用转换"
   ]
  },
  {
   "cell_type": "code",
   "execution_count": 14,
   "metadata": {
    "pycharm": {
     "name": "#%%\n"
    }
   },
   "outputs": [
    {
     "name": "stdout",
     "output_type": "stream",
     "text": [
      "2021/11/23 11:52:09\n",
      "2021-11-23 11:52:09\n",
      "Tue Nov 23 11:52:24 2021\n",
      "time.struct_time(tm_year=2021, tm_mon=11, tm_mday=23, tm_hour=11, tm_min=52, tm_sec=9, tm_wday=1, tm_yday=327, tm_isdst=-1)\n",
      "11 52\n",
      "1637639529.0\n",
      "time.struct_time(tm_year=2021, tm_mon=11, tm_mday=23, tm_hour=3, tm_min=52, tm_sec=9, tm_wday=1, tm_yday=327, tm_isdst=0)\n"
     ]
    }
   ],
   "source": [
    "import time\n",
    "\n",
    "time_now = int(time.time())\n",
    "time_local =  time.localtime(time_now)\n",
    "## 时间格式化为字符串\n",
    "dt_str = time.strftime(\"%Y-%m-%d %H:%M:%S\",time_local)\n",
    "print(time.strftime(\"%Y/%m/%d %H:%M:%S\",time_local))\n",
    "print(dt_str)\n",
    "## human readable time\n",
    "print(time.ctime(time_now+15))\n",
    "## 字符串格式化为时间\n",
    "date = time.strptime(dt_str,\"%Y-%m-%d %H:%M:%S\")\n",
    "print(date)\n",
    "print(date.tm_hour,date.tm_min)\n",
    "## struct_time -> time\n",
    "timestamp = time.mktime(date)\n",
    "print(timestamp)\n",
    "## time -> struct_time \n",
    "timestamp_to_date = time.gmtime(timestamp)\n",
    "print(timestamp_to_date)"
   ]
  },
  {
   "cell_type": "markdown",
   "metadata": {
    "pycharm": {
     "name": "#%% md\n"
    }
   },
   "source": [
    "## Monotonic Clocks\n",
    "\n",
    "单调时钟模块,函数总是返回前向的时间值,测量持续时间"
   ]
  },
  {
   "cell_type": "code",
   "execution_count": 16,
   "metadata": {
    "pycharm": {
     "name": "#%%\n"
    }
   },
   "outputs": [
    {
     "name": "stdout",
     "output_type": "stream",
     "text": [
      "start : 524338.77\n",
      "end   : 524338.88\n",
      "span  :      0.11\n"
     ]
    }
   ],
   "source": [
    "start = time.monotonic()\n",
    "time.sleep(0.1)\n",
    "end = time.monotonic()\n",
    "\n",
    "print('start : {:>9.2f}'.format(start))\n",
    "print('end   : {:>9.2f}'.format(end))\n",
    "print('span  : {:>9.2f}'.format(end - start))"
   ]
  },
  {
   "cell_type": "markdown",
   "metadata": {
    "pycharm": {
     "name": "#%% md\n"
    }
   },
   "source": [
    "## Clocks"
   ]
  },
  {
   "cell_type": "code",
   "execution_count": 17,
   "metadata": {
    "pycharm": {
     "name": "#%%\n"
    }
   },
   "outputs": [
    {
     "name": "stdout",
     "output_type": "stream",
     "text": [
      "namespace(implementation='GetProcessTimes()', monotonic=True, adjustable=False, resolution=1e-07)\n"
     ]
    }
   ],
   "source": [
    "## perf_counter   monotonic  time\n",
    "info =  time.get_clock_info('process_time')\n",
    "print(info)"
   ]
  },
  {
   "cell_type": "markdown",
   "metadata": {
    "pycharm": {
     "name": "#%% md\n"
    }
   },
   "source": [
    "## 日期"
   ]
  },
  {
   "cell_type": "code",
   "execution_count": 21,
   "metadata": {
    "pycharm": {
     "name": "#%%\n"
    }
   },
   "outputs": [
    {
     "name": "stdout",
     "output_type": "stream",
     "text": [
      "12:10:10\n",
      "12 10 10\n",
      "2021-11-23\n",
      "1 day, 1:00:00\n",
      "2021-11-24\n"
     ]
    }
   ],
   "source": [
    "import datetime\n",
    "\n",
    "# 仅标识时间段\n",
    "t = datetime.time(12,10,10)\n",
    "print(t)\n",
    "print(t.hour,t.minute,t.second)\n",
    "\n",
    "# 日期\n",
    "today  = datetime.date.today()\n",
    "print(today)\n",
    "\n",
    "td = datetime.timedelta(days=1,hours=1)\n",
    "print(td)\n",
    "print(today + td)"
   ]
  },
  {
   "cell_type": "markdown",
   "metadata": {
    "pycharm": {
     "name": "#%% md\n"
    }
   },
   "source": [
    "## calendar — 日期操作"
   ]
  },
  {
   "cell_type": "code",
   "execution_count": 30,
   "metadata": {
    "pycharm": {
     "name": "#%%\n"
    }
   },
   "outputs": [
    {
     "name": "stdout",
     "output_type": "stream",
     "text": [
      "     July 2017\n",
      "Su Mo Tu We Th Fr Sa\n",
      "                   1\n",
      " 2  3  4  5  6  7  8\n",
      " 9 10 11 12 13 14 15\n",
      "16 17 18 19 20 21 22\n",
      "23 24 25 26 27 28 29\n",
      "30 31\n"
     ]
    }
   ],
   "source": [
    "import calendar\n",
    "\n",
    "c = calendar.TextCalendar(calendar.SUNDAY)\n",
    "\n",
    "c.prmonth(2017,7)\n",
    "\n",
    "#print(c.formatyear(2017, 2, 1, 1, 3))\n",
    "# cal_data =  c.yeardays2calendar(2017,3)\n",
    "# print(cal_data)"
   ]
  }
 ],
 "metadata": {
  "interpreter": {
   "hash": "5961c1f676d41e3107b987a88563c83ef53a9477bd0aeae680aa09bb0e6bf12b"
  },
  "kernelspec": {
   "display_name": "Python 3.9.1 64-bit",
   "language": "python",
   "name": "python3"
  },
  "language_info": {
   "codemirror_mode": {
    "name": "ipython",
    "version": 3
   },
   "file_extension": ".py",
   "mimetype": "text/x-python",
   "name": "python",
   "nbconvert_exporter": "python",
   "pygments_lexer": "ipython3",
   "version": "3.9.1"
  },
  "orig_nbformat": 4
 },
 "nbformat": 4,
 "nbformat_minor": 2
}
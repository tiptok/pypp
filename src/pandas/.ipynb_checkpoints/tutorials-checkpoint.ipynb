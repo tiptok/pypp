{
 "cells": [
  {
   "cell_type": "code",
   "execution_count": null,
   "metadata": {
    "collapsed": true,
    "pycharm": {
     "name": "#%%\n"
    }
   },
   "outputs": [],
   "source": [
    "import pandas as pd\n",
    "\n",
    "df = pd.DataFrame(\n",
    "    {\n",
    "        \"Name\": [\n",
    "            \"Braund, Mr. Owen Harris\",\n",
    "            \"Allen, Mr. William Henry\",\n",
    "            \"Bonnell, Miss. Elizabeth\",\n",
    "        ],\n",
    "        \"Age\": [22, 35, 58],\n",
    "        \"Sex\": [\"male\", \"male\", \"female\"],\n",
    "    }\n",
    ")\n",
    "\n",
    "df"
   ]
  },
  {
   "cell_type": "code",
   "execution_count": null,
   "metadata": {
    "pycharm": {
     "name": "#%%\n"
    }
   },
   "outputs": [],
   "source": [
    "df['Age']"
   ]
  },
  {
   "cell_type": "code",
   "execution_count": null,
   "metadata": {
    "pycharm": {
     "name": "#%%\n"
    }
   },
   "outputs": [],
   "source": [
    "df['Age'].max()"
   ]
  },
  {
   "cell_type": "code",
   "execution_count": null,
   "metadata": {
    "pycharm": {
     "name": "#%%\n"
    }
   },
   "outputs": [],
   "source": [
    "df.describe()"
   ]
  },
  {
   "cell_type": "markdown",
   "metadata": {
    "pycharm": {
     "name": "#%% md\n"
    }
   },
   "source": [
    "## 2.read and write table"
   ]
  },
  {
   "cell_type": "markdown",
   "metadata": {
    "pycharm": {
     "name": "#%% md\n"
    }
   },
   "source": [
    "- install\n",
    "\n",
    "```\n",
    "pip install notebook\n",
    "pip install xlrd\n",
    "pip install openpyxl\n",
    "\n",
    "xlrd更新到了2.0.1版本,只支持.xls文件,可以安装旧版xlrd 1.2.0,也可以用openpyxl代替xlrd打开.xlsx文件\n",
    "pip install xlrd==1.2.0\n",
    "```"
   ]
  },
  {
   "cell_type": "code",
   "execution_count": null,
   "metadata": {
    "pycharm": {
     "name": "#%%\n"
    }
   },
   "outputs": [],
   "source": [
    "test = pd.read_excel('test.xls')"
   ]
  },
  {
   "cell_type": "code",
   "execution_count": null,
   "metadata": {
    "pycharm": {
     "name": "#%%\n"
    }
   },
   "outputs": [],
   "source": [
    "test"
   ]
  },
  {
   "cell_type": "code",
   "execution_count": null,
   "metadata": {
    "pycharm": {
     "name": "#%%\n"
    }
   },
   "outputs": [],
   "source": [
    "test.head(1)"
   ]
  },
  {
   "cell_type": "code",
   "execution_count": null,
   "metadata": {
    "pycharm": {
     "name": "#%%\n"
    }
   },
   "outputs": [],
   "source": [
    "test.dtypes"
   ]
  },
  {
   "cell_type": "code",
   "execution_count": null,
   "metadata": {
    "pycharm": {
     "name": "#%%\n"
    }
   },
   "outputs": [],
   "source": [
    "test.to_excel(\"test.xlsx\", sheet_name=\"Sheet1\", index=False)"
   ]
  },
  {
   "cell_type": "code",
   "execution_count": 21,
   "metadata": {
    "pycharm": {
     "name": "#%%\n"
    }
   },
   "outputs": [],
   "source": [
    "test = pd.read_excel(\"test.xlsx\",sheet_name=\"Sheet1\",engine='openpyxl')"
   ]
  },
  {
   "cell_type": "code",
   "execution_count": 22,
   "metadata": {
    "pycharm": {
     "name": "#%%\n"
    }
   },
   "outputs": [
    {
     "data": {
      "text/html": [
       "<div>\n",
       "<style scoped>\n",
       "    .dataframe tbody tr th:only-of-type {\n",
       "        vertical-align: middle;\n",
       "    }\n",
       "\n",
       "    .dataframe tbody tr th {\n",
       "        vertical-align: top;\n",
       "    }\n",
       "\n",
       "    .dataframe thead th {\n",
       "        text-align: right;\n",
       "    }\n",
       "</style>\n",
       "<table border=\"1\" class=\"dataframe\">\n",
       "  <thead>\n",
       "    <tr style=\"text-align: right;\">\n",
       "      <th></th>\n",
       "      <th>*用户编码</th>\n",
       "      <th>*用户姓名</th>\n",
       "      <th>*所属部门</th>\n",
       "      <th>*用户状态</th>\n",
       "      <th>*手机号</th>\n",
       "      <th>*员工类型</th>\n",
       "      <th>IC卡号</th>\n",
       "      <th>邮箱</th>\n",
       "    </tr>\n",
       "  </thead>\n",
       "  <tbody>\n",
       "    <tr>\n",
       "      <th>0</th>\n",
       "      <td>H0002</td>\n",
       "      <td>用户0002</td>\n",
       "      <td>制造中心</td>\n",
       "      <td>启用</td>\n",
       "      <td>18818111002</td>\n",
       "      <td>固定</td>\n",
       "      <td>803</td>\n",
       "      <td>NaN</td>\n",
       "    </tr>\n",
       "    <tr>\n",
       "      <th>1</th>\n",
       "      <td>H0003</td>\n",
       "      <td>用户0003</td>\n",
       "      <td>制造中心</td>\n",
       "      <td>启用</td>\n",
       "      <td>18818111003</td>\n",
       "      <td>固定</td>\n",
       "      <td>804</td>\n",
       "      <td>NaN</td>\n",
       "    </tr>\n",
       "    <tr>\n",
       "      <th>2</th>\n",
       "      <td>H0004</td>\n",
       "      <td>用户0004</td>\n",
       "      <td>制造中心</td>\n",
       "      <td>启用</td>\n",
       "      <td>18818111004</td>\n",
       "      <td>固定</td>\n",
       "      <td>805</td>\n",
       "      <td>NaN</td>\n",
       "    </tr>\n",
       "  </tbody>\n",
       "</table>\n",
       "</div>"
      ],
      "text/plain": [
       "   *用户编码   *用户姓名 *所属部门 *用户状态         *手机号 *员工类型  IC卡号  邮箱\n",
       "0  H0002  用户0002  制造中心    启用  18818111002    固定   803 NaN\n",
       "1  H0003  用户0003  制造中心    启用  18818111003    固定   804 NaN\n",
       "2  H0004  用户0004  制造中心    启用  18818111004    固定   805 NaN"
      ]
     },
     "execution_count": 22,
     "metadata": {},
     "output_type": "execute_result"
    }
   ],
   "source": [
    "test"
   ]
  },
  {
   "cell_type": "code",
   "execution_count": 24,
   "metadata": {
    "pycharm": {
     "name": "#%%\n"
    }
   },
   "outputs": [
    {
     "name": "stdout",
     "output_type": "stream",
     "text": [
      "<class 'pandas.core.frame.DataFrame'>\n",
      "RangeIndex: 3 entries, 0 to 2\n",
      "Data columns (total 8 columns):\n",
      " #   Column  Non-Null Count  Dtype  \n",
      "---  ------  --------------  -----  \n",
      " 0   *用户编码   3 non-null      object \n",
      " 1   *用户姓名   3 non-null      object \n",
      " 2   *所属部门   3 non-null      object \n",
      " 3   *用户状态   3 non-null      object \n",
      " 4   *手机号    3 non-null      int64  \n",
      " 5   *员工类型   3 non-null      object \n",
      " 6   IC卡号    3 non-null      int64  \n",
      " 7   邮箱      0 non-null      float64\n",
      "dtypes: float64(1), int64(2), object(5)\n",
      "memory usage: 320.0+ bytes\n"
     ]
    }
   ],
   "source": [
    "test.info()"
   ]
  },
  {
   "cell_type": "markdown",
   "metadata": {
    "pycharm": {
     "name": "#%% md\n"
    }
   },
   "source": [
    "## select a subset of a DataFrame"
   ]
  },
  {
   "cell_type": "code",
   "execution_count": 25,
   "metadata": {
    "pycharm": {
     "name": "#%%\n"
    }
   },
   "outputs": [],
   "source": [
    "phone_and_ic = test[['IC卡号','*手机号']]"
   ]
  },
  {
   "cell_type": "code",
   "execution_count": 26,
   "metadata": {
    "pycharm": {
     "name": "#%%\n"
    }
   },
   "outputs": [
    {
     "data": {
      "text/plain": [
       "(3, 2)"
      ]
     },
     "execution_count": 26,
     "metadata": {},
     "output_type": "execute_result"
    }
   ],
   "source": [
    "phone_and_ic.shape"
   ]
  },
  {
   "cell_type": "code",
   "execution_count": 27,
   "metadata": {
    "pycharm": {
     "name": "#%%\n"
    }
   },
   "outputs": [
    {
     "data": {
      "text/html": [
       "<div>\n",
       "<style scoped>\n",
       "    .dataframe tbody tr th:only-of-type {\n",
       "        vertical-align: middle;\n",
       "    }\n",
       "\n",
       "    .dataframe tbody tr th {\n",
       "        vertical-align: top;\n",
       "    }\n",
       "\n",
       "    .dataframe thead th {\n",
       "        text-align: right;\n",
       "    }\n",
       "</style>\n",
       "<table border=\"1\" class=\"dataframe\">\n",
       "  <thead>\n",
       "    <tr style=\"text-align: right;\">\n",
       "      <th></th>\n",
       "      <th>IC卡号</th>\n",
       "      <th>*手机号</th>\n",
       "    </tr>\n",
       "  </thead>\n",
       "  <tbody>\n",
       "    <tr>\n",
       "      <th>0</th>\n",
       "      <td>803</td>\n",
       "      <td>18818111002</td>\n",
       "    </tr>\n",
       "    <tr>\n",
       "      <th>1</th>\n",
       "      <td>804</td>\n",
       "      <td>18818111003</td>\n",
       "    </tr>\n",
       "    <tr>\n",
       "      <th>2</th>\n",
       "      <td>805</td>\n",
       "      <td>18818111004</td>\n",
       "    </tr>\n",
       "  </tbody>\n",
       "</table>\n",
       "</div>"
      ],
      "text/plain": [
       "   IC卡号         *手机号\n",
       "0   803  18818111002\n",
       "1   804  18818111003\n",
       "2   805  18818111004"
      ]
     },
     "execution_count": 27,
     "metadata": {},
     "output_type": "execute_result"
    }
   ],
   "source": [
    "phone_and_ic.head()"
   ]
  },
  {
   "cell_type": "code",
   "execution_count": 29,
   "metadata": {
    "pycharm": {
     "name": "#%%\n"
    }
   },
   "outputs": [
    {
     "data": {
      "text/html": [
       "<div>\n",
       "<style scoped>\n",
       "    .dataframe tbody tr th:only-of-type {\n",
       "        vertical-align: middle;\n",
       "    }\n",
       "\n",
       "    .dataframe tbody tr th {\n",
       "        vertical-align: top;\n",
       "    }\n",
       "\n",
       "    .dataframe thead th {\n",
       "        text-align: right;\n",
       "    }\n",
       "</style>\n",
       "<table border=\"1\" class=\"dataframe\">\n",
       "  <thead>\n",
       "    <tr style=\"text-align: right;\">\n",
       "      <th></th>\n",
       "      <th>*用户编码</th>\n",
       "      <th>*用户姓名</th>\n",
       "      <th>*所属部门</th>\n",
       "      <th>*用户状态</th>\n",
       "      <th>*手机号</th>\n",
       "      <th>*员工类型</th>\n",
       "      <th>IC卡号</th>\n",
       "      <th>邮箱</th>\n",
       "    </tr>\n",
       "  </thead>\n",
       "  <tbody>\n",
       "    <tr>\n",
       "      <th>1</th>\n",
       "      <td>H0003</td>\n",
       "      <td>用户0003</td>\n",
       "      <td>制造中心</td>\n",
       "      <td>启用</td>\n",
       "      <td>18818111003</td>\n",
       "      <td>固定</td>\n",
       "      <td>804</td>\n",
       "      <td>NaN</td>\n",
       "    </tr>\n",
       "    <tr>\n",
       "      <th>2</th>\n",
       "      <td>H0004</td>\n",
       "      <td>用户0004</td>\n",
       "      <td>制造中心</td>\n",
       "      <td>启用</td>\n",
       "      <td>18818111004</td>\n",
       "      <td>固定</td>\n",
       "      <td>805</td>\n",
       "      <td>NaN</td>\n",
       "    </tr>\n",
       "  </tbody>\n",
       "</table>\n",
       "</div>"
      ],
      "text/plain": [
       "   *用户编码   *用户姓名 *所属部门 *用户状态         *手机号 *员工类型  IC卡号  邮箱\n",
       "1  H0003  用户0003  制造中心    启用  18818111003    固定   804 NaN\n",
       "2  H0004  用户0004  制造中心    启用  18818111004    固定   805 NaN"
      ]
     },
     "execution_count": 29,
     "metadata": {},
     "output_type": "execute_result"
    }
   ],
   "source": [
    "above_803 = test[test['IC卡号'] > 803]\n",
    "above_803.head()"
   ]
  },
  {
   "cell_type": "code",
   "execution_count": 30,
   "metadata": {
    "pycharm": {
     "name": "#%%\n"
    }
   },
   "outputs": [
    {
     "data": {
      "text/html": [
       "<div>\n",
       "<style scoped>\n",
       "    .dataframe tbody tr th:only-of-type {\n",
       "        vertical-align: middle;\n",
       "    }\n",
       "\n",
       "    .dataframe tbody tr th {\n",
       "        vertical-align: top;\n",
       "    }\n",
       "\n",
       "    .dataframe thead th {\n",
       "        text-align: right;\n",
       "    }\n",
       "</style>\n",
       "<table border=\"1\" class=\"dataframe\">\n",
       "  <thead>\n",
       "    <tr style=\"text-align: right;\">\n",
       "      <th></th>\n",
       "      <th>*用户编码</th>\n",
       "      <th>*用户姓名</th>\n",
       "      <th>*所属部门</th>\n",
       "      <th>*用户状态</th>\n",
       "      <th>*手机号</th>\n",
       "      <th>*员工类型</th>\n",
       "      <th>IC卡号</th>\n",
       "      <th>邮箱</th>\n",
       "    </tr>\n",
       "  </thead>\n",
       "  <tbody>\n",
       "    <tr>\n",
       "      <th>0</th>\n",
       "      <td>H0002</td>\n",
       "      <td>用户0002</td>\n",
       "      <td>制造中心</td>\n",
       "      <td>启用</td>\n",
       "      <td>18818111002</td>\n",
       "      <td>固定</td>\n",
       "      <td>803</td>\n",
       "      <td>NaN</td>\n",
       "    </tr>\n",
       "    <tr>\n",
       "      <th>1</th>\n",
       "      <td>H0003</td>\n",
       "      <td>用户0003</td>\n",
       "      <td>制造中心</td>\n",
       "      <td>启用</td>\n",
       "      <td>18818111003</td>\n",
       "      <td>固定</td>\n",
       "      <td>804</td>\n",
       "      <td>NaN</td>\n",
       "    </tr>\n",
       "  </tbody>\n",
       "</table>\n",
       "</div>"
      ],
      "text/plain": [
       "   *用户编码   *用户姓名 *所属部门 *用户状态         *手机号 *员工类型  IC卡号  邮箱\n",
       "0  H0002  用户0002  制造中心    启用  18818111002    固定   803 NaN\n",
       "1  H0003  用户0003  制造中心    启用  18818111003    固定   804 NaN"
      ]
     },
     "execution_count": 30,
     "metadata": {},
     "output_type": "execute_result"
    }
   ],
   "source": [
    "class_34 = test[test['IC卡号'].isin([803,804])]\n",
    "class_34.head()"
   ]
  },
  {
   "cell_type": "code",
   "execution_count": 32,
   "metadata": {
    "pycharm": {
     "name": "#%%\n"
    }
   },
   "outputs": [
    {
     "data": {
      "text/html": [
       "<div>\n",
       "<style scoped>\n",
       "    .dataframe tbody tr th:only-of-type {\n",
       "        vertical-align: middle;\n",
       "    }\n",
       "\n",
       "    .dataframe tbody tr th {\n",
       "        vertical-align: top;\n",
       "    }\n",
       "\n",
       "    .dataframe thead th {\n",
       "        text-align: right;\n",
       "    }\n",
       "</style>\n",
       "<table border=\"1\" class=\"dataframe\">\n",
       "  <thead>\n",
       "    <tr style=\"text-align: right;\">\n",
       "      <th></th>\n",
       "      <th>*用户编码</th>\n",
       "      <th>*用户姓名</th>\n",
       "      <th>*所属部门</th>\n",
       "      <th>*用户状态</th>\n",
       "      <th>*手机号</th>\n",
       "      <th>*员工类型</th>\n",
       "      <th>IC卡号</th>\n",
       "      <th>邮箱</th>\n",
       "    </tr>\n",
       "  </thead>\n",
       "  <tbody>\n",
       "    <tr>\n",
       "      <th>0</th>\n",
       "      <td>H0002</td>\n",
       "      <td>用户0002</td>\n",
       "      <td>制造中心</td>\n",
       "      <td>启用</td>\n",
       "      <td>18818111002</td>\n",
       "      <td>固定</td>\n",
       "      <td>803</td>\n",
       "      <td>NaN</td>\n",
       "    </tr>\n",
       "    <tr>\n",
       "      <th>1</th>\n",
       "      <td>H0003</td>\n",
       "      <td>用户0003</td>\n",
       "      <td>制造中心</td>\n",
       "      <td>启用</td>\n",
       "      <td>18818111003</td>\n",
       "      <td>固定</td>\n",
       "      <td>804</td>\n",
       "      <td>NaN</td>\n",
       "    </tr>\n",
       "  </tbody>\n",
       "</table>\n",
       "</div>"
      ],
      "text/plain": [
       "   *用户编码   *用户姓名 *所属部门 *用户状态         *手机号 *员工类型  IC卡号  邮箱\n",
       "0  H0002  用户0002  制造中心    启用  18818111002    固定   803 NaN\n",
       "1  H0003  用户0003  制造中心    启用  18818111003    固定   804 NaN"
      ]
     },
     "execution_count": 32,
     "metadata": {},
     "output_type": "execute_result"
    }
   ],
   "source": [
    "class_34 = test[(test['IC卡号']==803) | (test['IC卡号']==804)]\n",
    "class_34.head()"
   ]
  },
  {
   "cell_type": "markdown",
   "metadata": {
    "pycharm": {
     "name": "#%% md\n"
    }
   },
   "source": [
    "- select sepeciffic rows and column from a DataFrame"
   ]
  },
  {
   "cell_type": "code",
   "execution_count": null,
   "metadata": {
    "pycharm": {
     "name": "#%%\n"
    }
   },
   "outputs": [],
   "source": []
  }
 ],
 "metadata": {
  "kernelspec": {
   "display_name": "Python 3",
   "language": "python",
   "name": "python3"
  },
  "language_info": {
   "codemirror_mode": {
    "name": "ipython",
    "version": 3
   },
   "file_extension": ".py",
   "mimetype": "text/x-python",
   "name": "python",
   "nbconvert_exporter": "python",
   "pygments_lexer": "ipython3",
   "version": "3.6.3"
  }
 },
 "nbformat": 4,
 "nbformat_minor": 1
}
